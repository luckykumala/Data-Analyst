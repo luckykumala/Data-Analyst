{
  "cells": [
    {
      "cell_type": "markdown",
      "metadata": {
        "id": "rhs6ovOcfpKY"
      },
      "source": [
        "##Topic 5 - Loop, Conditional Statement & Function Assignment\n"
      ]
    },
    {
      "cell_type": "markdown",
      "metadata": {
        "id": "tESOTs3YfVw4"
      },
      "source": [
        "# Loop"
      ]
    },
    {
      "cell_type": "markdown",
      "metadata": {
        "id": "pdVUOOFNfy8f"
      },
      "source": [
        "Write a \"for\" loop to iterate and print value from 100 to 200 (Points 5)"
      ]
    },
    {
      "cell_type": "code",
      "execution_count": null,
      "metadata": {
        "colab": {
          "base_uri": "https://localhost:8080/"
        },
        "id": "CnzWEkDyfXrf",
        "outputId": "96e5b994-baaf-447a-cc8f-8d3c1ad6531f"
      },
      "outputs": [
        {
          "name": "stdout",
          "output_type": "stream",
          "text": [
            "100\n",
            "101\n",
            "102\n",
            "103\n",
            "104\n",
            "105\n",
            "106\n",
            "107\n",
            "108\n",
            "109\n",
            "110\n",
            "111\n",
            "112\n",
            "113\n",
            "114\n",
            "115\n",
            "116\n",
            "117\n",
            "118\n",
            "119\n",
            "120\n",
            "121\n",
            "122\n",
            "123\n",
            "124\n",
            "125\n",
            "126\n",
            "127\n",
            "128\n",
            "129\n",
            "130\n",
            "131\n",
            "132\n",
            "133\n",
            "134\n",
            "135\n",
            "136\n",
            "137\n",
            "138\n",
            "139\n",
            "140\n",
            "141\n",
            "142\n",
            "143\n",
            "144\n",
            "145\n",
            "146\n",
            "147\n",
            "148\n",
            "149\n",
            "150\n",
            "151\n",
            "152\n",
            "153\n",
            "154\n",
            "155\n",
            "156\n",
            "157\n",
            "158\n",
            "159\n",
            "160\n",
            "161\n",
            "162\n",
            "163\n",
            "164\n",
            "165\n",
            "166\n",
            "167\n",
            "168\n",
            "169\n",
            "170\n",
            "171\n",
            "172\n",
            "173\n",
            "174\n",
            "175\n",
            "176\n",
            "177\n",
            "178\n",
            "179\n",
            "180\n",
            "181\n",
            "182\n",
            "183\n",
            "184\n",
            "185\n",
            "186\n",
            "187\n",
            "188\n",
            "189\n",
            "190\n",
            "191\n",
            "192\n",
            "193\n",
            "194\n",
            "195\n",
            "196\n",
            "197\n",
            "198\n",
            "199\n",
            "200\n"
          ]
        }
      ],
      "source": [
        "for x in range(100, 201):\n",
        "  print(x)"
      ]
    },
    {
      "cell_type": "markdown",
      "metadata": {
        "id": "RaLLenGOgASP"
      },
      "source": [
        "Write a for loop to iterate and print the **odd numbers** between from 0 to 100  (Points 10)"
      ]
    },
    {
      "cell_type": "code",
      "execution_count": null,
      "metadata": {
        "colab": {
          "base_uri": "https://localhost:8080/"
        },
        "id": "lhPeyR2dgNSf",
        "outputId": "dcce9221-1a5f-484a-d74c-b16a0691048e"
      },
      "outputs": [
        {
          "name": "stdout",
          "output_type": "stream",
          "text": [
            "1\n",
            "3\n",
            "5\n",
            "7\n",
            "9\n",
            "11\n",
            "13\n",
            "15\n",
            "17\n",
            "19\n",
            "21\n",
            "23\n",
            "25\n",
            "27\n",
            "29\n",
            "31\n",
            "33\n",
            "35\n",
            "37\n",
            "39\n",
            "41\n",
            "43\n",
            "45\n",
            "47\n",
            "49\n",
            "51\n",
            "53\n",
            "55\n",
            "57\n",
            "59\n",
            "61\n",
            "63\n",
            "65\n",
            "67\n",
            "69\n",
            "71\n",
            "73\n",
            "75\n",
            "77\n",
            "79\n",
            "81\n",
            "83\n",
            "85\n",
            "87\n",
            "89\n",
            "91\n",
            "93\n",
            "95\n",
            "97\n",
            "99\n"
          ]
        }
      ],
      "source": [
        "for x in range(1,101,2):\n",
        "  print(x)"
      ]
    },
    {
      "cell_type": "markdown",
      "metadata": {
        "id": "L_MyDw4qge4H"
      },
      "source": [
        "Write a \"While\" loop to iterate and print value from 0 to 50 (Points 5)"
      ]
    },
    {
      "cell_type": "code",
      "execution_count": null,
      "metadata": {
        "colab": {
          "base_uri": "https://localhost:8080/"
        },
        "id": "zJAQ0DpygY1H",
        "outputId": "26b8172c-7d28-49c6-8f21-1b5b4a009130"
      },
      "outputs": [
        {
          "name": "stdout",
          "output_type": "stream",
          "text": [
            "0\n",
            "1\n",
            "2\n",
            "3\n",
            "4\n",
            "5\n",
            "6\n",
            "7\n",
            "8\n",
            "9\n",
            "10\n",
            "11\n",
            "12\n",
            "13\n",
            "14\n",
            "15\n",
            "16\n",
            "17\n",
            "18\n",
            "19\n",
            "20\n",
            "21\n",
            "22\n",
            "23\n",
            "24\n",
            "25\n",
            "26\n",
            "27\n",
            "28\n",
            "29\n",
            "30\n",
            "31\n",
            "32\n",
            "33\n",
            "34\n",
            "35\n",
            "36\n",
            "37\n",
            "38\n",
            "39\n",
            "40\n",
            "41\n",
            "42\n",
            "43\n",
            "44\n",
            "45\n",
            "46\n",
            "47\n",
            "48\n",
            "49\n",
            "50\n"
          ]
        }
      ],
      "source": [
        "i=0\n",
        "while i < 51:\n",
        "  print(i)\n",
        "  i+=1"
      ]
    },
    {
      "cell_type": "markdown",
      "metadata": {
        "id": "wmgK-wW9jLCg"
      },
      "source": [
        "# Loop with Conditional Statement"
      ]
    },
    {
      "cell_type": "markdown",
      "metadata": {
        "id": "6wcDI-omjSjo"
      },
      "source": [
        "Given the list below\n",
        "\n",
        "age=[10,15,30,90,100,10,20]"
      ]
    },
    {
      "cell_type": "markdown",
      "metadata": {
        "id": "vNb9IUcPk1p4"
      },
      "source": [
        "Loop through the list and print all of the value (Points 5)"
      ]
    },
    {
      "cell_type": "code",
      "execution_count": null,
      "metadata": {
        "colab": {
          "base_uri": "https://localhost:8080/"
        },
        "id": "3A9x3fp_jO-3",
        "outputId": "61dffb5d-cba0-4250-96de-b20c4e9fc631"
      },
      "outputs": [
        {
          "name": "stdout",
          "output_type": "stream",
          "text": [
            "10\n",
            "15\n",
            "30\n",
            "90\n",
            "100\n",
            "10\n",
            "20\n"
          ]
        }
      ],
      "source": [
        "age=[10,15,30,90,100,10,20]\n",
        "for x in age:\n",
        "  print(x)"
      ]
    },
    {
      "cell_type": "markdown",
      "metadata": {
        "id": "EEEpnmtGk6pX"
      },
      "source": [
        "Using loop and conditional statement, print **all the value higher than 50** (Points 10)"
      ]
    },
    {
      "cell_type": "code",
      "execution_count": null,
      "metadata": {
        "colab": {
          "base_uri": "https://localhost:8080/"
        },
        "id": "5IarElM_jQ-n",
        "outputId": "275e6fc2-dd62-4ef5-a755-71875ebf4bb9"
      },
      "outputs": [
        {
          "name": "stdout",
          "output_type": "stream",
          "text": [
            "90\n",
            "100\n"
          ]
        }
      ],
      "source": [
        "for x in age:\n",
        " if x > 50:\n",
        "  print(x)"
      ]
    },
    {
      "cell_type": "markdown",
      "metadata": {
        "id": "rX2hMHHVljcZ"
      },
      "source": [
        "Using loop and conditional statement, replace **all the value lower than 50** into \"Low Value\" (Points 15)"
      ]
    },
    {
      "cell_type": "code",
      "execution_count": null,
      "metadata": {
        "colab": {
          "base_uri": "https://localhost:8080/"
        },
        "id": "fLVR8tG_ljv6",
        "outputId": "4fd2dbb8-055f-460b-97ed-ae7e8dc8c799"
      },
      "outputs": [
        {
          "name": "stdout",
          "output_type": "stream",
          "text": [
            "Low Value\n",
            "Low Value\n",
            "Low Value\n",
            "90\n",
            "100\n",
            "Low Value\n",
            "Low Value\n"
          ]
        }
      ],
      "source": [
        "for x in age:\n",
        "  if (x < 50):\n",
        "      print('Low Value')\n",
        "  else:\n",
        "      print(x)\n"
      ]
    },
    {
      "cell_type": "markdown",
      "metadata": {
        "id": "0GQv25KTuap6"
      },
      "source": [
        "# Function"
      ]
    },
    {
      "cell_type": "markdown",
      "metadata": {
        "id": "KADX7sqxwRsK"
      },
      "source": [
        "Create a function to find the area of a rectangle. (Points 15)"
      ]
    },
    {
      "cell_type": "code",
      "execution_count": null,
      "metadata": {
        "colab": {
          "base_uri": "https://localhost:8080/"
        },
        "id": "Jc05-578wR0R",
        "outputId": "2ad5188e-751d-482d-e935-a23e72436fca"
      },
      "outputs": [
        {
          "name": "stdout",
          "output_type": "stream",
          "text": [
            "200\n"
          ]
        }
      ],
      "source": [
        "def rectangle(p,l):\n",
        "  result=(p*l)\n",
        "  return result\n",
        "\n",
        "result=rectangle(20,10)\n",
        "print(result)"
      ]
    },
    {
      "cell_type": "markdown",
      "metadata": {
        "id": "PNfpl1JtyNv6"
      },
      "source": [
        "Create a function to transform string into uppercase. This function will have one parameter input:\n",
        "\n",
        "x= string of word\n",
        "\n",
        "i.e\n",
        "x=\"I love food\" => x=\"I LOVE FOOD\"\n",
        "\n",
        "(Points 15)\n"
      ]
    },
    {
      "cell_type": "code",
      "execution_count": null,
      "metadata": {
        "colab": {
          "base_uri": "https://localhost:8080/"
        },
        "id": "nKduN2KOyN4T",
        "outputId": "1db37901-3143-4678-fa63-b38a10b61414"
      },
      "outputs": [
        {
          "name": "stdout",
          "output_type": "stream",
          "text": [
            "STRING OF WORD\n"
          ]
        }
      ],
      "source": [
        "x='string of word'\n",
        "def upper(x):\n",
        "  print(x.upper())\n",
        "upper(x)"
      ]
    },
    {
      "cell_type": "markdown",
      "metadata": {
        "id": "J5xXUInBvax6"
      },
      "source": [
        "Create a function called \"calculate\". This function will have three parameter input :\n",
        "\n",
        "1. a= a number input\n",
        "2. b= b number input\n",
        "3. method = \"+\" , \"-\" , \"*\" , \"/\"\n",
        "\n",
        "The function will return the value based on the method chosen. \n",
        "i.e \n",
        "if \"*\" is in input parameter then the function will return a+b (Points 20)"
      ]
    },
    {
      "cell_type": "code",
      "execution_count": null,
      "metadata": {
        "colab": {
          "base_uri": "https://localhost:8080/"
        },
        "id": "8b8Fp1MvvkgR",
        "outputId": "e9e05754-36a8-4c3b-f271-88f244352733"
      },
      "outputs": [
        {
          "name": "stdout",
          "output_type": "stream",
          "text": [
            "3\n"
          ]
        }
      ],
      "source": [
        "def calculate(a,b,method):\n",
        "  if (method=='*'):\n",
        "    kali=(a*b)\n",
        "    return kali\n",
        "  elif (method=='+'):\n",
        "    tambah=(a+b)\n",
        "    return tambah\n",
        "  elif (method=='-'):\n",
        "    minus=(a-b)\n",
        "    return minus\n",
        "  elif (method=='/'):\n",
        "    bagi=(a/b)\n",
        "    return bagi\n",
        "\n",
        "total=calculate(1,2,'+')\n",
        "print(total)\n"
      ]
    }
  ],
  "metadata": {
    "colab": {
      "collapsed_sections": [],
      "name": "Topic_4_Assigment.ipynb",
      "provenance": []
    },
    "kernelspec": {
      "display_name": "Python 3",
      "name": "python3"
    },
    "language_info": {
      "name": "python"
    }
  },
  "nbformat": 4,
  "nbformat_minor": 0
}
